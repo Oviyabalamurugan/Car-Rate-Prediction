{
 "cells": [
  {
   "cell_type": "code",
   "execution_count": 1,
   "metadata": {},
   "outputs": [],
   "source": [
    "from sklearn.model_selection import train_test_split\n",
    "from sklearn.preprocessing import Imputer\n",
    "from pandas.plotting import scatter_matrix\n",
    "from sklearn.preprocessing import OneHotEncoder\n",
    "from sklearn.pipeline import Pipeline\n",
    "from sklearn.pipeline import FeatureUnion\n",
    "from sklearn.preprocessing import StandardScaler\n",
    "from sklearn.base import BaseEstimator, TransformerMixin\n",
    "from sklearn.linear_model import LinearRegression"
   ]
  },
  {
   "cell_type": "code",
   "execution_count": 11,
   "metadata": {},
   "outputs": [],
   "source": [
    "import numpy as np\n",
    "import pandas as pd \n",
    "import matplotlib\n",
    "import matplotlib.pyplot as plt\n",
    "from sklearn.model_selection import train_test_split\n",
    "from sklearn.preprocessing import Imputer\n",
    "from pandas.plotting import scatter_matrix\n",
    "from sklearn.preprocessing import OneHotEncoder\n",
    "from sklearn.pipeline import Pipeline\n",
    "from sklearn.pipeline import FeatureUnion\n",
    "from sklearn.preprocessing import StandardScaler\n",
    "from sklearn.base import BaseEstimator, TransformerMixin\n",
    "from sklearn.linear_model import LinearRegression\n",
    "import os"
   ]
  },
  {
   "cell_type": "code",
   "execution_count": 12,
   "metadata": {},
   "outputs": [
    {
     "name": "stdout",
     "output_type": "stream",
     "text": [
      "                                  Name    Location  Year  Kilometers_Driven  \\\n",
      "0               Maruti Wagon R LXI CNG      Mumbai  2010              72000   \n",
      "1     Hyundai Creta 1.6 CRDi SX Option        Pune  2015              41000   \n",
      "2                         Honda Jazz V     Chennai  2011              46000   \n",
      "3                    Maruti Ertiga VDI     Chennai  2012              87000   \n",
      "4      Audi A4 New 2.0 TDI Multitronic  Coimbatore  2013              40670   \n",
      "...                                ...         ...   ...                ...   \n",
      "6014                  Maruti Swift VDI       Delhi  2014              27365   \n",
      "6015          Hyundai Xcent 1.1 CRDi S      Jaipur  2015             100000   \n",
      "6016             Mahindra Xylo D4 BSIV      Jaipur  2012              55000   \n",
      "6017                Maruti Wagon R VXI     Kolkata  2013              46000   \n",
      "6018             Chevrolet Beat Diesel   Hyderabad  2011              47000   \n",
      "\n",
      "     Fuel_Type Transmission Owner_Type     Mileage   Engine   Power  Seats  \\\n",
      "0          CNG       Manual      First  26.6 km/kg   998 CC   58.16    5.0   \n",
      "1       Diesel       Manual      First  19.67 kmpl  1582 CC  126.20    5.0   \n",
      "2       Petrol       Manual      First   18.2 kmpl  1199 CC   88.70    5.0   \n",
      "3       Diesel       Manual      First  20.77 kmpl  1248 CC   88.76    7.0   \n",
      "4       Diesel    Automatic     Second   15.2 kmpl  1968 CC  140.80    5.0   \n",
      "...        ...          ...        ...         ...      ...     ...    ...   \n",
      "6014    Diesel       Manual      First   28.4 kmpl  1248 CC   74.00    5.0   \n",
      "6015    Diesel       Manual      First   24.4 kmpl  1120 CC   71.00    5.0   \n",
      "6016    Diesel       Manual     Second   14.0 kmpl  2498 CC  112.00    8.0   \n",
      "6017    Petrol       Manual      First   18.9 kmpl   998 CC   67.10    5.0   \n",
      "6018    Diesel       Manual      First  25.44 kmpl   936 CC   57.60    5.0   \n",
      "\n",
      "      Price  \n",
      "0      1.75  \n",
      "1     12.50  \n",
      "2      4.50  \n",
      "3      6.00  \n",
      "4     17.74  \n",
      "...     ...  \n",
      "6014   4.75  \n",
      "6015   4.00  \n",
      "6016   2.90  \n",
      "6017   2.65  \n",
      "6018   2.50  \n",
      "\n",
      "[6019 rows x 12 columns]\n"
     ]
    }
   ],
   "source": [
    "dftrain = pd.read_excel (r'C:\\Users\\oviya\\Desktop\\Data_Train.xlsx')\n",
    "print (dftrain)"
   ]
  },
  {
   "cell_type": "code",
   "execution_count": 14,
   "metadata": {},
   "outputs": [
    {
     "data": {
      "text/plain": [
       "Name                   0\n",
       "Location               0\n",
       "Year                   0\n",
       "Kilometers_Driven      0\n",
       "Fuel_Type              0\n",
       "Transmission           0\n",
       "Owner_Type             0\n",
       "Mileage                2\n",
       "Engine                36\n",
       "Power                143\n",
       "Seats                 42\n",
       "Price                  0\n",
       "dtype: int64"
      ]
     },
     "execution_count": 14,
     "metadata": {},
     "output_type": "execute_result"
    }
   ],
   "source": [
    "missing_values = dftrain.isnull().sum()\n",
    "missing_values"
   ]
  },
  {
   "cell_type": "markdown",
   "metadata": {},
   "source": [
    "         "
   ]
  },
  {
   "cell_type": "code",
   "execution_count": 15,
   "metadata": {},
   "outputs": [
    {
     "data": {
      "text/html": [
       "<div>\n",
       "<style scoped>\n",
       "    .dataframe tbody tr th:only-of-type {\n",
       "        vertical-align: middle;\n",
       "    }\n",
       "\n",
       "    .dataframe tbody tr th {\n",
       "        vertical-align: top;\n",
       "    }\n",
       "\n",
       "    .dataframe thead th {\n",
       "        text-align: right;\n",
       "    }\n",
       "</style>\n",
       "<table border=\"1\" class=\"dataframe\">\n",
       "  <thead>\n",
       "    <tr style=\"text-align: right;\">\n",
       "      <th></th>\n",
       "      <th>Year</th>\n",
       "      <th>Kilometers_Driven</th>\n",
       "      <th>Power</th>\n",
       "      <th>Seats</th>\n",
       "      <th>Price</th>\n",
       "    </tr>\n",
       "  </thead>\n",
       "  <tbody>\n",
       "    <tr>\n",
       "      <td>count</td>\n",
       "      <td>6019.000000</td>\n",
       "      <td>6.019000e+03</td>\n",
       "      <td>5876.000000</td>\n",
       "      <td>5977.000000</td>\n",
       "      <td>6019.000000</td>\n",
       "    </tr>\n",
       "    <tr>\n",
       "      <td>mean</td>\n",
       "      <td>2013.358199</td>\n",
       "      <td>5.873838e+04</td>\n",
       "      <td>113.253050</td>\n",
       "      <td>5.278735</td>\n",
       "      <td>9.479468</td>\n",
       "    </tr>\n",
       "    <tr>\n",
       "      <td>std</td>\n",
       "      <td>3.269742</td>\n",
       "      <td>9.126884e+04</td>\n",
       "      <td>53.874957</td>\n",
       "      <td>0.808840</td>\n",
       "      <td>11.187917</td>\n",
       "    </tr>\n",
       "    <tr>\n",
       "      <td>min</td>\n",
       "      <td>1998.000000</td>\n",
       "      <td>1.710000e+02</td>\n",
       "      <td>34.200000</td>\n",
       "      <td>0.000000</td>\n",
       "      <td>0.440000</td>\n",
       "    </tr>\n",
       "    <tr>\n",
       "      <td>25%</td>\n",
       "      <td>2011.000000</td>\n",
       "      <td>3.400000e+04</td>\n",
       "      <td>75.000000</td>\n",
       "      <td>5.000000</td>\n",
       "      <td>3.500000</td>\n",
       "    </tr>\n",
       "    <tr>\n",
       "      <td>50%</td>\n",
       "      <td>2014.000000</td>\n",
       "      <td>5.300000e+04</td>\n",
       "      <td>97.700000</td>\n",
       "      <td>5.000000</td>\n",
       "      <td>5.640000</td>\n",
       "    </tr>\n",
       "    <tr>\n",
       "      <td>75%</td>\n",
       "      <td>2016.000000</td>\n",
       "      <td>7.300000e+04</td>\n",
       "      <td>138.100000</td>\n",
       "      <td>5.000000</td>\n",
       "      <td>9.950000</td>\n",
       "    </tr>\n",
       "    <tr>\n",
       "      <td>max</td>\n",
       "      <td>2019.000000</td>\n",
       "      <td>6.500000e+06</td>\n",
       "      <td>560.000000</td>\n",
       "      <td>10.000000</td>\n",
       "      <td>160.000000</td>\n",
       "    </tr>\n",
       "  </tbody>\n",
       "</table>\n",
       "</div>"
      ],
      "text/plain": [
       "              Year  Kilometers_Driven        Power        Seats        Price\n",
       "count  6019.000000       6.019000e+03  5876.000000  5977.000000  6019.000000\n",
       "mean   2013.358199       5.873838e+04   113.253050     5.278735     9.479468\n",
       "std       3.269742       9.126884e+04    53.874957     0.808840    11.187917\n",
       "min    1998.000000       1.710000e+02    34.200000     0.000000     0.440000\n",
       "25%    2011.000000       3.400000e+04    75.000000     5.000000     3.500000\n",
       "50%    2014.000000       5.300000e+04    97.700000     5.000000     5.640000\n",
       "75%    2016.000000       7.300000e+04   138.100000     5.000000     9.950000\n",
       "max    2019.000000       6.500000e+06   560.000000    10.000000   160.000000"
      ]
     },
     "execution_count": 15,
     "metadata": {},
     "output_type": "execute_result"
    }
   ],
   "source": [
    "dftrain.describe()"
   ]
  },
  {
   "cell_type": "code",
   "execution_count": 130,
   "metadata": {},
   "outputs": [
    {
     "name": "stdout",
     "output_type": "stream",
     "text": [
      "['Location']  :  [5]\n",
      "['Year']  :  [2017 2015]\n",
      "['Kilometers_Driven']  :  [25000  8000]\n",
      "['Fuel_Type']  :  [1 4]\n",
      "['Transmission']  :  [0]\n",
      "['Owner_Type']  :  [0]\n",
      "['Power']  :  [255.  488.1]\n",
      "['Seats']  :  [5. 2.]\n"
     ]
    }
   ],
   "source": [
    "cat_val = [\"Location\",\"Year\",\"Kilometers_Driven\", \"Fuel_Type\",\"Transmission\", \"Owner_Type\",\"Power\",\"Seats\"]\n",
    "\n",
    "for col in cat_val:\n",
    "    print ([col],\" : \",dftrain[col].unique())\n"
   ]
  },
  {
   "cell_type": "code",
   "execution_count": 20,
   "metadata": {},
   "outputs": [],
   "source": [
    "dftrain_c = dftrain.copy()\n",
    "dftrain_c = dftrain_c[\n",
    "    (dftrain_c[\"Year\"].between(1945, 2019, inclusive=True)) &\n",
    "    (dftrain_c[\"Power\"].between(100, 500, inclusive=True)) &\n",
    "    (dftrain_c[\"Price\"].between(100, 200000, inclusive=True))\n",
    "]"
   ]
  },
  {
   "cell_type": "code",
   "execution_count": 22,
   "metadata": {},
   "outputs": [
    {
     "data": {
      "text/plain": [
       "array([[<matplotlib.axes._subplots.AxesSubplot object at 0x0000017F0F55E0C8>,\n",
       "        <matplotlib.axes._subplots.AxesSubplot object at 0x0000017F105FD748>,\n",
       "        <matplotlib.axes._subplots.AxesSubplot object at 0x0000017F107A3608>,\n",
       "        <matplotlib.axes._subplots.AxesSubplot object at 0x0000017F103EA748>],\n",
       "       [<matplotlib.axes._subplots.AxesSubplot object at 0x0000017F10422848>,\n",
       "        <matplotlib.axes._subplots.AxesSubplot object at 0x0000017F1045B948>,\n",
       "        <matplotlib.axes._subplots.AxesSubplot object at 0x0000017F10499348>,\n",
       "        <matplotlib.axes._subplots.AxesSubplot object at 0x0000017F104CDB08>],\n",
       "       [<matplotlib.axes._subplots.AxesSubplot object at 0x0000017F104D8FC8>,\n",
       "        <matplotlib.axes._subplots.AxesSubplot object at 0x0000017F105161C8>,\n",
       "        <matplotlib.axes._subplots.AxesSubplot object at 0x0000017F10576E48>,\n",
       "        <matplotlib.axes._subplots.AxesSubplot object at 0x0000017F105AEF48>],\n",
       "       [<matplotlib.axes._subplots.AxesSubplot object at 0x0000017F107DD088>,\n",
       "        <matplotlib.axes._subplots.AxesSubplot object at 0x0000017F108191C8>,\n",
       "        <matplotlib.axes._subplots.AxesSubplot object at 0x0000017F1084F2C8>,\n",
       "        <matplotlib.axes._subplots.AxesSubplot object at 0x0000017F108873C8>]],\n",
       "      dtype=object)"
      ]
     },
     "execution_count": 22,
     "metadata": {},
     "output_type": "execute_result"
    },
    {
     "data": {
      "image/png": "[encoded data removed]",
      "text/plain": [
       "<Figure size 864x576 with 16 Axes>"
      ]
     },
     "metadata": {
      "needs_background": "light"
     },
     "output_type": "display_data"
    }
   ],
   "source": [
    "num_attributes = [\"Price\", \"Year\", \"Power\", \"Kilometers_Driven\"]\n",
    "%matplotlib inline\n",
    "pd.plotting.scatter_matrix(dftrain[num_attributes], figsize = (12,8), alpha = 0.1)"
   ]
  },
  {
   "cell_type": "code",
   "execution_count": null,
   "metadata": {},
   "outputs": [],
   "source": []
  },
  {
   "cell_type": "code",
   "execution_count": 25,
   "metadata": {},
   "outputs": [
    {
     "data": {
      "text/plain": [
       "<matplotlib.axes._subplots.AxesSubplot at 0x17f11f63588>"
      ]
     },
     "execution_count": 25,
     "metadata": {},
     "output_type": "execute_result"
    },
    {
     "data": {
      "image/png": "[encoded data removed]",
      "text/plain": [
       "<Figure size 432x288 with 1 Axes>"
      ]
     },
     "metadata": {
      "needs_background": "light"
     },
     "output_type": "display_data"
    }
   ],
   "source": [
    "dftrain[\"Price\"].hist(bins = 50, log = True)"
   ]
  },
  {
   "cell_type": "code",
   "execution_count": 28,
   "metadata": {},
   "outputs": [
    {
     "name": "stdout",
     "output_type": "stream",
     "text": [
      "Current Data Amount :  6019.0 \n",
      " Current Data Amount %:  1.0\n"
     ]
    }
   ],
   "source": [
    "print(\"Current Data Amount : \", dftrain.shape[0]/dftrain.shape[0] * dftrain.shape[0], \n",
    "      \"\\n\",\"Current Data Amount %: \", dftrain.shape[0]/dftrain.shape[0])"
   ]
  },
  {
   "cell_type": "code",
   "execution_count": 62,
   "metadata": {},
   "outputs": [],
   "source": [
    "# Filter bad data\n",
    "dftrain_c = dftrain[\n",
    "    (dftrain_c[\"Year\"].between(1945, 2017, inclusive=True)) &\n",
    "    (dftrain_c[\"Power\"].between(100, 500, inclusive=True)) &\n",
    "    (dftrain_c[\"Price\"].between(100, 200000, inclusive=True))  \n",
    "]\n",
    "\n",
    "# Replace the NaN-Values\n",
    "dftrain_c['Kilometers_Driven'].fillna(value='blank', inplace=True)\n",
    "dftrain_c['Fuel_Type'].fillna(value='blank', inplace=True)\n",
    "dftrain_c['Transmission'].fillna(value='blank', inplace=True)\n",
    "dftrain_c['Price'].fillna(value='blank', inplace=True)\n",
    "dftrain_c['Engine'].fillna(value='blank', inplace=True)\n",
    "\n",
    "for col in dftrain:\n",
    "    if dftrain[col].dtype == \"object\":\n",
    "        dftrain[col] = dftrain[col].astype('category')"
   ]
  },
  {
   "cell_type": "code",
   "execution_count": 63,
   "metadata": {},
   "outputs": [],
   "source": [
    "cat_columns = dftrain.select_dtypes(['category']).columns\n",
    "\n",
    "dftrain[cat_columns] = dftrain[cat_columns].apply(lambda x: x.cat.codes)"
   ]
  },
  {
   "cell_type": "code",
   "execution_count": 64,
   "metadata": {},
   "outputs": [
    {
     "data": {
      "text/html": [
       "<div>\n",
       "<style scoped>\n",
       "    .dataframe tbody tr th:only-of-type {\n",
       "        vertical-align: middle;\n",
       "    }\n",
       "\n",
       "    .dataframe tbody tr th {\n",
       "        vertical-align: top;\n",
       "    }\n",
       "\n",
       "    .dataframe thead th {\n",
       "        text-align: right;\n",
       "    }\n",
       "</style>\n",
       "<table border=\"1\" class=\"dataframe\">\n",
       "  <thead>\n",
       "    <tr style=\"text-align: right;\">\n",
       "      <th></th>\n",
       "      <th>Name</th>\n",
       "      <th>Location</th>\n",
       "      <th>Year</th>\n",
       "      <th>Kilometers_Driven</th>\n",
       "      <th>Fuel_Type</th>\n",
       "      <th>Transmission</th>\n",
       "      <th>Owner_Type</th>\n",
       "      <th>Mileage</th>\n",
       "      <th>Engine</th>\n",
       "      <th>Power</th>\n",
       "      <th>Seats</th>\n",
       "      <th>Price</th>\n",
       "    </tr>\n",
       "  </thead>\n",
       "  <tbody>\n",
       "    <tr>\n",
       "      <td>4079</td>\n",
       "      <td>815</td>\n",
       "      <td>5</td>\n",
       "      <td>2017</td>\n",
       "      <td>25000</td>\n",
       "      <td>1</td>\n",
       "      <td>0</td>\n",
       "      <td>0</td>\n",
       "      <td>76</td>\n",
       "      <td>114</td>\n",
       "      <td>255.0</td>\n",
       "      <td>5.0</td>\n",
       "      <td>160.0</td>\n",
       "    </tr>\n",
       "    <tr>\n",
       "      <td>5919</td>\n",
       "      <td>774</td>\n",
       "      <td>5</td>\n",
       "      <td>2015</td>\n",
       "      <td>8000</td>\n",
       "      <td>4</td>\n",
       "      <td>0</td>\n",
       "      <td>0</td>\n",
       "      <td>48</td>\n",
       "      <td>130</td>\n",
       "      <td>488.1</td>\n",
       "      <td>2.0</td>\n",
       "      <td>100.0</td>\n",
       "    </tr>\n",
       "  </tbody>\n",
       "</table>\n",
       "</div>"
      ],
      "text/plain": [
       "      Name  Location  Year  Kilometers_Driven  Fuel_Type  Transmission  \\\n",
       "4079   815         5  2017              25000          1             0   \n",
       "5919   774         5  2015               8000          4             0   \n",
       "\n",
       "      Owner_Type  Mileage  Engine  Power  Seats  Price  \n",
       "4079           0       76     114  255.0    5.0  160.0  \n",
       "5919           0       48     130  488.1    2.0  100.0  "
      ]
     },
     "execution_count": 64,
     "metadata": {},
     "output_type": "execute_result"
    }
   ],
   "source": [
    "dftrain.head()"
   ]
  },
  {
   "cell_type": "code",
   "execution_count": 84,
   "metadata": {},
   "outputs": [],
   "source": [
    "cars_price = dftrain[\"Price\"].copy()\n",
    "dftrain= dftrain.drop(\"Price\", axis=1)"
   ]
  },
  {
   "cell_type": "code",
   "execution_count": 33,
   "metadata": {},
   "outputs": [],
   "source": [
    "class DFSelector(BaseEstimator, TransformerMixin):\n",
    "    def __init__(self, attribute_names):\n",
    "        self.attribute_names = attribute_names\n",
    "    def fit(self, X, y=None):\n",
    "        return self\n",
    "    def transform(self, X):\n",
    "        return X[self.attribute_names].values\n"
   ]
  },
  {
   "cell_type": "code",
   "execution_count": 65,
   "metadata": {},
   "outputs": [],
   "source": [
    "cat_attribs = [\"Kilometers_Driven\", \"Fuel_Type\", \"Owner_Type\", \"Price\", \"Power\", \"Mileage\", \"Engine\"]\n",
    "num_attribs = list(dftrain_c.drop(cat_attribs, axis=1))\n",
    "\n",
    "# Building the Pipelines\n",
    "\n",
    "num_pipeline = Pipeline([\n",
    "    (\"selector\", DFSelector(num_attribs)),\n",
    "    (\"std_scaler\", StandardScaler())\n",
    "])\n",
    "\n",
    "cat_pipeline = Pipeline([\n",
    "    (\"selector\", DFSelector(cat_attribs)),\n",
    "    (\"encoder\", OneHotEncoder(sparse=True))\n",
    "])\n",
    "\n",
    "full_pipeline = FeatureUnion(transformer_list =[\n",
    "    (\"num_pipeline\", num_pipeline),\n",
    "    (\"cat_pipeline\", cat_pipeline)\n",
    "])"
   ]
  },
  {
   "cell_type": "code",
   "execution_count": 44,
   "metadata": {},
   "outputs": [],
   "source": [
    "from sklearn.metrics import mean_squared_error"
   ]
  },
  {
   "cell_type": "code",
   "execution_count": 66,
   "metadata": {},
   "outputs": [
    {
     "name": "stderr",
     "output_type": "stream",
     "text": [
      "C:\\Users\\oviya\\Anaconda3\\lib\\site-packages\\sklearn\\preprocessing\\_encoders.py:415: FutureWarning: The handling of integer data will change in version 0.22. Currently, the categories are determined based on the range [0, max(values)], while in the future they will be determined based on the unique values.\n",
      "If you want the future behaviour and silence this warning, you can specify \"categories='auto'\".\n",
      "In case you used a LabelEncoder before this OneHotEncoder to convert the categories to integers, then you can now use the OneHotEncoder directly.\n",
      "  warnings.warn(msg, FutureWarning)\n"
     ]
    }
   ],
   "source": [
    "cars_prepared = full_pipeline.fit_transform(dftrain)"
   ]
  },
  {
   "cell_type": "code",
   "execution_count": 85,
   "metadata": {},
   "outputs": [
    {
     "data": {
      "text/plain": [
       "LinearRegression(copy_X=True, fit_intercept=True, n_jobs=None, normalize=False)"
      ]
     },
     "execution_count": 85,
     "metadata": {},
     "output_type": "execute_result"
    }
   ],
   "source": [
    "lin_reg = LinearRegression()\n",
    "lin_reg.fit(cars_prepared, cars_price)"
   ]
  },
  {
   "cell_type": "code",
   "execution_count": 71,
   "metadata": {},
   "outputs": [],
   "source": [
    "from sklearn.metrics import mean_squared_error"
   ]
  },
  {
   "cell_type": "code",
   "execution_count": 86,
   "metadata": {},
   "outputs": [
    {
     "data": {
      "text/plain": [
       "0.0"
      ]
     },
     "execution_count": 86,
     "metadata": {},
     "output_type": "execute_result"
    }
   ],
   "source": [
    "cars_predictions = lin_reg.predict(cars_prepared)\n",
    "lin_mse = mean_squared_error(cars_price, cars_predictions)\n",
    "lin_rmse = np.sqrt(lin_mse)\n",
    "lin_rmse"
   ]
  },
  {
   "cell_type": "code",
   "execution_count": 87,
   "metadata": {},
   "outputs": [
    {
     "data": {
      "text/plain": [
       "array([160., 100.])"
      ]
     },
     "execution_count": 87,
     "metadata": {},
     "output_type": "execute_result"
    }
   ],
   "source": [
    "cars_predictions[0:4]"
   ]
  },
  {
   "cell_type": "code",
   "execution_count": 88,
   "metadata": {},
   "outputs": [
    {
     "data": {
      "text/plain": [
       "[160.0, 100.0]"
      ]
     },
     "execution_count": 88,
     "metadata": {},
     "output_type": "execute_result"
    }
   ],
   "source": [
    "list(cars_price[0:4])"
   ]
  },
  {
   "cell_type": "code",
   "execution_count": 89,
   "metadata": {},
   "outputs": [
    {
     "data": {
      "text/plain": [
       "DecisionTreeRegressor(criterion='mse', max_depth=None, max_features=None,\n",
       "                      max_leaf_nodes=None, min_impurity_decrease=0.0,\n",
       "                      min_impurity_split=None, min_samples_leaf=1,\n",
       "                      min_samples_split=2, min_weight_fraction_leaf=0.0,\n",
       "                      presort=False, random_state=42, splitter='best')"
      ]
     },
     "execution_count": 89,
     "metadata": {},
     "output_type": "execute_result"
    }
   ],
   "source": [
    "from sklearn.tree import DecisionTreeRegressor\n",
    "\n",
    "tree_reg = DecisionTreeRegressor(random_state=42)\n",
    "tree_reg.fit(cars_prepared, cars_price)"
   ]
  },
  {
   "cell_type": "code",
   "execution_count": 90,
   "metadata": {},
   "outputs": [
    {
     "data": {
      "text/plain": [
       "0.0"
      ]
     },
     "execution_count": 90,
     "metadata": {},
     "output_type": "execute_result"
    }
   ],
   "source": [
    "cars_predictions = tree_reg.predict(cars_prepared)\n",
    "tree_mse = mean_squared_error(cars_price, cars_predictions)\n",
    "tree_rmse = np.sqrt(tree_mse)\n",
    "tree_rmse"
   ]
  },
  {
   "cell_type": "code",
   "execution_count": 91,
   "metadata": {},
   "outputs": [
    {
     "name": "stderr",
     "output_type": "stream",
     "text": [
      "C:\\Users\\oviya\\Anaconda3\\lib\\site-packages\\sklearn\\ensemble\\forest.py:245: FutureWarning: The default value of n_estimators will change from 10 in version 0.20 to 100 in 0.22.\n",
      "  \"10 in version 0.20 to 100 in 0.22.\", FutureWarning)\n"
     ]
    },
    {
     "data": {
      "text/plain": [
       "RandomForestRegressor(bootstrap=True, criterion='mse', max_depth=30,\n",
       "                      max_features='auto', max_leaf_nodes=None,\n",
       "                      min_impurity_decrease=0.0, min_impurity_split=None,\n",
       "                      min_samples_leaf=1, min_samples_split=2,\n",
       "                      min_weight_fraction_leaf=0.0, n_estimators=10, n_jobs=-1,\n",
       "                      oob_score=False, random_state=42, verbose=0,\n",
       "                      warm_start=False)"
      ]
     },
     "execution_count": 91,
     "metadata": {},
     "output_type": "execute_result"
    }
   ],
   "source": [
    "from sklearn.ensemble import RandomForestRegressor\n",
    "\n",
    "forest_reg = RandomForestRegressor(random_state=42, n_jobs =-1, max_depth = 30 )\n",
    "forest_reg.fit(cars_prepared, cars_price)"
   ]
  },
  {
   "cell_type": "code",
   "execution_count": 94,
   "metadata": {},
   "outputs": [
    {
     "data": {
      "text/plain": [
       "13.416407864998739"
      ]
     },
     "execution_count": 94,
     "metadata": {},
     "output_type": "execute_result"
    }
   ],
   "source": [
    "cars_predictions = forest_reg.predict(cars_prepared)\n",
    "forest_mse = mean_squared_error(cars_price, cars_predictions)\n",
    "forest_rmse = np.sqrt(forest_mse)\n",
    "forest_rmse"
   ]
  },
  {
   "cell_type": "code",
   "execution_count": 95,
   "metadata": {},
   "outputs": [],
   "source": [
    "from sklearn.model_selection import cross_val_score\n",
    "\n",
    "def display_scores(scores):\n",
    "    print(\"Scores:\", scores)\n",
    "    print(\"Mean:\", scores.mean())\n",
    "    print(\"Standard deviation:\", scores.std())"
   ]
  },
  {
   "cell_type": "code",
   "execution_count": 204,
   "metadata": {},
   "outputs": [
    {
     "name": "stdout",
     "output_type": "stream",
     "text": [
      "The exact solution is  x = 0                              \n",
      "The exact solution is  x = 0                              \n",
      "Scores: [60. 60.]\n",
      "Mean: 60.0\n",
      "Standard deviation: 0.0\n"
     ]
    }
   ],
   "source": [
    "scores = cross_val_score(lin_reg, cars_prepared, cars_price,\n",
    "                         scoring=\"neg_mean_squared_error\", cv=2)\n",
    "lin_rmse_scores = np.sqrt(-scores)\n",
    "\n",
    "display_scores(lin_rmse_scores)"
   ]
  },
  {
   "cell_type": "code",
   "execution_count": 205,
   "metadata": {},
   "outputs": [
    {
     "name": "stdout",
     "output_type": "stream",
     "text": [
      "Scores: [60. 60.]\n",
      "Mean: 60.0\n",
      "Standard deviation: 0.0\n"
     ]
    }
   ],
   "source": [
    "scores = cross_val_score(tree_reg, cars_prepared, cars_price,\n",
    "                         scoring=\"neg_mean_squared_error\", cv=2)\n",
    "tree_rmse_scores = np.sqrt(-scores)\n",
    "display_scores(tree_rmse_scores)"
   ]
  },
  {
   "cell_type": "code",
   "execution_count": 186,
   "metadata": {},
   "outputs": [
    {
     "name": "stdout",
     "output_type": "stream",
     "text": [
      "Scores: [60. 60.]\n",
      "Mean: 60.0\n",
      "Standard deviation: 0.0\n"
     ]
    }
   ],
   "source": [
    "from sklearn.model_selection import cross_val_score\n",
    "\n",
    "scores = cross_val_score(forest_reg, cars_prepared, cars_price,\n",
    "                         scoring=\"neg_mean_squared_error\", cv=2)\n",
    "forest_rmse_scores = np.sqrt(-scores)\n",
    "\n",
    "display_scores(forest_rmse_scores)"
   ]
  },
  {
   "cell_type": "code",
   "execution_count": 103,
   "metadata": {},
   "outputs": [
    {
     "data": {
      "text/plain": [
       "array([0.16666667, 0.        , 0.16666667, 0.        , 0.        ,\n",
       "       0.        , 0.        , 0.        , 0.        , 0.        ,\n",
       "       0.        , 0.        , 0.        , 0.        , 0.16666667,\n",
       "       0.16666667, 0.16666667, 0.16666667])"
      ]
     },
     "execution_count": 103,
     "metadata": {},
     "output_type": "execute_result"
    }
   ],
   "source": [
    "feature_importances = forest_reg.feature_importances_\n",
    "feature_importances"
   ]
  },
  {
   "cell_type": "code",
   "execution_count": 104,
   "metadata": {},
   "outputs": [
    {
     "data": {
      "text/plain": [
       "[(0.16666666666666669, 'Year'),\n",
       " (0.16666666666666669, 'Name'),\n",
       " (0.0, 'Transmission'),\n",
       " (0.0, 'Seats'),\n",
       " (0.0, 'Location')]"
      ]
     },
     "execution_count": 104,
     "metadata": {},
     "output_type": "execute_result"
    }
   ],
   "source": [
    "cat_encoder = cat_pipeline.named_steps[\"encoder\"]\n",
    "#cat_one_hot_attribs = list(cat_encoder.categories_[0])\n",
    "attributes = num_attribs #+ cat_encoder\n",
    "sorted(zip(feature_importances, attributes), reverse=True)"
   ]
  },
  {
   "cell_type": "code",
   "execution_count": 196,
   "metadata": {},
   "outputs": [
    {
     "name": "stdout",
     "output_type": "stream",
     "text": [
      "                                  Name  Year  Kilometers_Driven    Location  \\\n",
      "0               Maruti Wagon R LXI CNG  2010              72000      Mumbai   \n",
      "1     Hyundai Creta 1.6 CRDi SX Option  2015              41000        Pune   \n",
      "2                         Honda Jazz V  2011              46000     Chennai   \n",
      "3                    Maruti Ertiga VDI  2012              87000     Chennai   \n",
      "4      Audi A4 New 2.0 TDI Multitronic  2013              40670  Coimbatore   \n",
      "...                                ...   ...                ...         ...   \n",
      "6014                  Maruti Swift VDI  2014              27365       Delhi   \n",
      "6015          Hyundai Xcent 1.1 CRDi S  2015             100000      Jaipur   \n",
      "6016             Mahindra Xylo D4 BSIV  2012              55000      Jaipur   \n",
      "6017                Maruti Wagon R VXI  2013              46000     Kolkata   \n",
      "6018             Chevrolet Beat Diesel  2011              47000   Hyderabad   \n",
      "\n",
      "     Transmission  Mileage  Engine   Power  Seats  Price  \n",
      "0          Manual    26.60   998.0   58.16    5.0   1.75  \n",
      "1          Manual    19.67  1582.0  126.20    5.0  12.50  \n",
      "2          Manual    18.20  1199.0   88.70    5.0   4.50  \n",
      "3          Manual    20.77  1248.0   88.76    7.0   6.00  \n",
      "4       Automatic    15.20  1968.0  140.80    5.0  17.74  \n",
      "...           ...      ...     ...     ...    ...    ...  \n",
      "6014       Manual    28.40  1248.0   74.00    5.0   4.75  \n",
      "6015       Manual    24.40  1120.0   71.00    5.0   4.00  \n",
      "6016       Manual    14.00  2498.0  112.00    8.0   2.90  \n",
      "6017       Manual    18.90   998.0   67.10    5.0   2.65  \n",
      "6018       Manual    25.44   936.0   57.60    5.0   2.50  \n",
      "\n",
      "[6019 rows x 10 columns]\n"
     ]
    }
   ],
   "source": [
    "dfprice = pd.read_excel (r'C:\\Users\\oviya\\Desktop\\price_set.xlsx')\n",
    "print (dfprice)"
   ]
  },
  {
   "cell_type": "code",
   "execution_count": 200,
   "metadata": {},
   "outputs": [],
   "source": [
    "from sklearn.preprocessing import OneHotEncoder\n",
    "enc = OneHotEncoder(handle_unknown='ignore')"
   ]
  },
  {
   "cell_type": "raw",
   "metadata": {
    "scrolled": false
   },
   "source": [
    "final_model = forest_reg\n",
    "cars_test = dfprice.drop(\"Price\", axis = 1)\n",
    "cars_price_test = dfprice[\"Price\"].copy()\n",
    "cars_test_prepared = full_pipeline.transform(cars_test)\n",
    "from sklearn.metrics import mean_squared_error\n",
    "final_predictions = final_model.predict(cars_test_prepared)\n",
    "final_mse = mean_squared_error(cars_price_test, final_predictions)\n",
    "final_rmse = np.sqrt(final_mse)"
   ]
  },
  {
   "cell_type": "raw",
   "metadata": {},
   "source": [
    "final_rmse"
   ]
  },
  {
   "cell_type": "raw",
   "metadata": {},
   "source": [
    "final_model.score(cars_test_prepared, cars_price_test)"
   ]
  },
  {
   "cell_type": "code",
   "execution_count": 2,
   "metadata": {},
   "outputs": [],
   "source": [
    "import numpy as np\n",
    "import pandas as pd \n",
    "import matplotlib\n",
    "import matplotlib.pyplot as plt\n",
    "from sklearn.model_selection import train_test_split\n",
    "from sklearn.preprocessing import Imputer\n",
    "from pandas.plotting import scatter_matrix\n",
    "from sklearn.preprocessing import OneHotEncoder\n",
    "from sklearn.pipeline import Pipeline\n",
    "from sklearn.pipeline import FeatureUnion\n",
    "from sklearn.preprocessing import StandardScaler\n",
    "from sklearn.base import BaseEstimator, TransformerMixin\n",
    "from sklearn.linear_model import LinearRegression\n",
    "import os"
   ]
  },
  {
   "cell_type": "code",
   "execution_count": 3,
   "metadata": {},
   "outputs": [],
   "source": [
    "from sklearn.model_selection import train_test_split\n",
    "from sklearn.preprocessing import Imputer\n",
    "from pandas.plotting import scatter_matrix\n",
    "from sklearn.preprocessing import OneHotEncoder\n",
    "from sklearn.pipeline import Pipeline\n",
    "from sklearn.pipeline import FeatureUnion\n",
    "from sklearn.preprocessing import StandardScaler\n",
    "from sklearn.base import BaseEstimator, TransformerMixin\n",
    "from sklearn.linear_model import LinearRegression\n",
    "from sklearn.linear_model import LogisticRegression"
   ]
  },
  {
   "cell_type": "code",
   "execution_count": 4,
   "metadata": {},
   "outputs": [
    {
     "name": "stdout",
     "output_type": "stream",
     "text": [
      "                                  Name    Location  Year  Kilometers_Driven  \\\n",
      "0               Maruti Wagon R LXI CNG      Mumbai  2010              72000   \n",
      "1     Hyundai Creta 1.6 CRDi SX Option        Pune  2015              41000   \n",
      "2                         Honda Jazz V     Chennai  2011              46000   \n",
      "3                    Maruti Ertiga VDI     Chennai  2012              87000   \n",
      "4      Audi A4 New 2.0 TDI Multitronic  Coimbatore  2013              40670   \n",
      "...                                ...         ...   ...                ...   \n",
      "6014                  Maruti Swift VDI       Delhi  2014              27365   \n",
      "6015          Hyundai Xcent 1.1 CRDi S      Jaipur  2015             100000   \n",
      "6016             Mahindra Xylo D4 BSIV      Jaipur  2012              55000   \n",
      "6017                Maruti Wagon R VXI     Kolkata  2013              46000   \n",
      "6018             Chevrolet Beat Diesel   Hyderabad  2011              47000   \n",
      "\n",
      "     Fuel_Type Transmission Owner_Type  Mileage  Engine   Power  Seats  Price  \n",
      "0          CNG       Manual      First    26.60   998.0   58.16    5.0   1.75  \n",
      "1       Diesel       Manual      First    19.67  1582.0  126.20    5.0  12.50  \n",
      "2       Petrol       Manual      First    18.20  1199.0   88.70    5.0   4.50  \n",
      "3       Diesel       Manual      First    20.77  1248.0   88.76    7.0   6.00  \n",
      "4       Diesel    Automatic     Second    15.20  1968.0  140.80    5.0  17.74  \n",
      "...        ...          ...        ...      ...     ...     ...    ...    ...  \n",
      "6014    Diesel       Manual      First    28.40  1248.0   74.00    5.0   4.75  \n",
      "6015    Diesel       Manual      First    24.40  1120.0   71.00    5.0   4.00  \n",
      "6016    Diesel       Manual     Second    14.00  2498.0  112.00    8.0   2.90  \n",
      "6017    Petrol       Manual      First    18.90   998.0   67.10    5.0   2.65  \n",
      "6018    Diesel       Manual      First    25.44   936.0   57.60    5.0   2.50  \n",
      "\n",
      "[6019 rows x 12 columns]\n"
     ]
    }
   ],
   "source": [
    "dftrain = pd.read_excel (r'C:\\Users\\oviya\\Desktop\\Data_Train.xlsx')\n",
    "print (dftrain)"
   ]
  },
  {
   "cell_type": "code",
   "execution_count": 5,
   "metadata": {},
   "outputs": [
    {
     "name": "stdout",
     "output_type": "stream",
     "text": [
      "                                  Name    Location  Year  Kilometers_Driven  \\\n",
      "0               Maruti Wagon R LXI CNG      Mumbai  2010              72000   \n",
      "1     Hyundai Creta 1.6 CRDi SX Option        Pune  2015              41000   \n",
      "2                         Honda Jazz V     Chennai  2011              46000   \n",
      "3                    Maruti Ertiga VDI     Chennai  2012              87000   \n",
      "4      Audi A4 New 2.0 TDI Multitronic  Coimbatore  2013              40670   \n",
      "...                                ...         ...   ...                ...   \n",
      "6014                  Maruti Swift VDI       Delhi  2014              27365   \n",
      "6015          Hyundai Xcent 1.1 CRDi S      Jaipur  2015             100000   \n",
      "6016             Mahindra Xylo D4 BSIV      Jaipur  2012              55000   \n",
      "6017                Maruti Wagon R VXI     Kolkata  2013              46000   \n",
      "6018             Chevrolet Beat Diesel   Hyderabad  2011              47000   \n",
      "\n",
      "     Fuel_Type Transmission Owner_Type  Mileage  Engine   Power  Seats  Price  \n",
      "0          CNG       Manual      First    26.60   998.0   58.16    5.0   1.75  \n",
      "1       Diesel       Manual      First    19.67  1582.0  126.20    5.0  12.50  \n",
      "2       Petrol       Manual      First    18.20  1199.0   88.70    5.0   4.50  \n",
      "3       Diesel       Manual      First    20.77  1248.0   88.76    7.0   6.00  \n",
      "4       Diesel    Automatic     Second    15.20  1968.0  140.80    5.0  17.74  \n",
      "...        ...          ...        ...      ...     ...     ...    ...    ...  \n",
      "6014    Diesel       Manual      First    28.40  1248.0   74.00    5.0   4.75  \n",
      "6015    Diesel       Manual      First    24.40  1120.0   71.00    5.0   4.00  \n",
      "6016    Diesel       Manual     Second    14.00  2498.0  112.00    8.0   2.90  \n",
      "6017    Petrol       Manual      First    18.90   998.0   67.10    5.0   2.65  \n",
      "6018    Diesel       Manual      First    25.44   936.0   57.60    5.0   2.50  \n",
      "\n",
      "[6019 rows x 12 columns]\n"
     ]
    }
   ],
   "source": [
    "dftest = pd.read_excel (r'C:\\Users\\oviya\\Desktop\\Data_Train.xlsx')\n",
    "print (dftest)"
   ]
  },
  {
   "cell_type": "code",
   "execution_count": 6,
   "metadata": {},
   "outputs": [],
   "source": [
    "df1 = pd.DataFrame(dftrain)"
   ]
  },
  {
   "cell_type": "code",
   "execution_count": 7,
   "metadata": {},
   "outputs": [],
   "source": [
    "df2 = pd.DataFrame(dftest)"
   ]
  },
  {
   "cell_type": "raw",
   "metadata": {},
   "source": [
    "X = df1[['Name','Location','Year','Kilometers_Driven','Fuel_Type','Transmission','Owner_Type','Mileage','Engine','Power','Sea']"
   ]
  },
  {
   "cell_type": "code",
   "execution_count": 13,
   "metadata": {},
   "outputs": [],
   "source": [
    "y = df1['Price']"
   ]
  },
  {
   "cell_type": "code",
   "execution_count": 14,
   "metadata": {},
   "outputs": [],
   "source": [
    "model = LogisticRegression()"
   ]
  },
  {
   "cell_type": "raw",
   "metadata": {},
   "source": [
    "model.fit(X,y)"
   ]
  },
  {
   "cell_type": "raw",
   "metadata": {},
   "source": [
    "model.predict(df2)"
   ]
  },
  {
   "cell_type": "code",
   "execution_count": null,
   "metadata": {},
   "outputs": [],
   "source": []
  }
 ],
 "metadata": {
  "kernelspec": {
   "display_name": "Python 3",
   "language": "python",
   "name": "python3"
  },
  "language_info": {
   "codemirror_mode": {
    "name": "ipython",
    "version": 3
   },
   "file_extension": ".py",
   "mimetype": "text/x-python",
   "name": "python",
   "nbconvert_exporter": "python",
   "pygments_lexer": "ipython3",
   "version": "3.8.8"
  }
 },
 "nbformat": 4,
 "nbformat_minor": 2
}
